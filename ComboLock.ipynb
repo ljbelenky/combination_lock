{
 "cells": [
  {
   "cell_type": "markdown",
   "metadata": {},
   "source": [
    "# Combination Locks\n",
    "\n",
    "This is a solution to the OOP Exercise described in: \n",
    "\n",
    "https://gist.github.com/ljbelenky/845ceb92207ab3b8b69697538575e2f6\n"
   ]
  },
  {
   "cell_type": "markdown",
   "metadata": {},
   "source": [
    "## Note:\n",
    "\n",
    "In this version, if verbose is true, it will attempt to send a text message to a cell phone if the lock is opened.\n",
    "\n",
    "This functionality relies on a free trial service from Twilio, as described here:\n",
    "\n",
    "https://www.fullstackpython.com/blog/send-sms-text-messages-python.html\n",
    "\n",
    "Besides the twilio REST API, which can be installed with  `pip install twilio`, this requires a Twilio account, an SID, a token and a verified cell-phone number.\n",
    "\n",
    "Because these values should not be put into a GitHub repo, I have put them in my `~/.bashrc` as environment variables using:\n",
    "\n",
    "```\n",
    "export TWILIO_SID=AC99999999999999999999999999999999\n",
    "export TWILIO_TOKEN=d9999999999999999999999999999999\n",
    "\n",
    "export TWILIO_TO=+12125551212\n",
    "export TWILIO_FROM=+12515551212\n",
    "```\n",
    "\n",
    "To enable this functionality, you'll need to acquire your own SID and TOKEN. Don't forget to `source ~/.bashrc` to activate any changes."
   ]
  },
  {
   "cell_type": "markdown",
   "metadata": {},
   "source": [
    "### Defintion of ComboLock Class"
   ]
  },
  {
   "cell_type": "code",
   "execution_count": null,
   "metadata": {},
   "outputs": [],
   "source": [
    "import numpy as np\n",
    "import matplotlib.pyplot as plt\n",
    "import os\n",
    "from twilio.rest import Client\n",
    "\n",
    "class ComboLock:\n",
    "    def __init__(self, digits = 4):\n",
    "        self.digits = digits\n",
    "        \n",
    "        # Pick a random code number\n",
    "        combo = np.random.randint(0,10, digits)\n",
    "        \n",
    "        # Hash the code to hide it from prying eyes\n",
    "        self._hashed_combo = hash(str(combo))\n",
    "        \n",
    "        self.clear()        \n",
    "        \n",
    "    def clear(self):\n",
    "        self._input = []\n",
    "        \n",
    "    def try_to_open(self, verbose = False):\n",
    "        '''\n",
    "        Returns True if the correct combination has been entered.\n",
    "        If verbose is true, prints output and sends text message to cell phone\n",
    "        '''\n",
    "        \n",
    "        if hash(str(np.array(self._input))) == self._hashed_combo:\n",
    "            if verbose:\n",
    "                print(f'You found the correct combo: {self._input}')\n",
    "                try:\n",
    "                    sid = os.environ['TWILIO_SID']\n",
    "                    token = os.environ['TWILIO_TOKEN']\n",
    "                    to = os.environ['TWILIO_TO']\n",
    "                    from_ = os.environ['TWILIO_FROM']\n",
    "                    \n",
    "                    message = f'You opened the lock with combination {self._input}'\n",
    "        \n",
    "                    client = Client(sid, token)\n",
    "                    client.messages.create(to=to,\n",
    "                                          from_=from_,\n",
    "                                          body= message)\n",
    "                except Exception as E:\n",
    "                    print(E)\n",
    "            return True\n",
    "        return False\n",
    "    \n",
    "    def input_digit(self, d):\n",
    "        \n",
    "        try:\n",
    "            # Only accept the first digit of input\n",
    "            d = int(str(d)[0])\n",
    "        \n",
    "            # Only accept valid input digits\n",
    "            if d in range(0,10):\n",
    "                self._input.append(d)        \n",
    "        except:\n",
    "            print('Invalid Input')\n",
    "        \n",
    "    def __repr__(self):\n",
    "        state = 'unlocked' if self.try_to_open() else 'locked'\n",
    "        return f'{state} ComboLock with {self.digits}-digit combination'"
   ]
  },
  {
   "cell_type": "markdown",
   "metadata": {},
   "source": [
    "### Attempt to guess the combination"
   ]
  },
  {
   "cell_type": "code",
   "execution_count": null,
   "metadata": {},
   "outputs": [],
   "source": [
    "my_lock = ComboLock()\n",
    "\n",
    "attempts = 0\n",
    "while True:\n",
    "    attempts += 1\n",
    "    my_lock.clear()\n",
    "    for i in range(my_lock.digits):\n",
    "        guess = np.random.randint(0,10)\n",
    "        my_lock.input_digit(guess)\n",
    "    \n",
    "    if my_lock.try_to_open(True):\n",
    "        print(f'In {attempts} attempts')\n",
    "        break"
   ]
  },
  {
   "cell_type": "markdown",
   "metadata": {},
   "source": [
    "### Make a function to guess the combination randomly:"
   ]
  },
  {
   "cell_type": "code",
   "execution_count": null,
   "metadata": {},
   "outputs": [],
   "source": [
    "def random_guess(lock):\n",
    "    attempts = 0\n",
    "    while True:\n",
    "        attempts += 1\n",
    "        my_lock.clear()\n",
    "        for i in range(my_lock.digits):\n",
    "            guess = np.random.randint(0,10)\n",
    "            my_lock.input_digit(guess)\n",
    "        if my_lock.try_to_open():\n",
    "            return attempts"
   ]
  },
  {
   "cell_type": "markdown",
   "metadata": {},
   "source": [
    "### Make a bunch of locks and see how how many trys it takes to unlock them"
   ]
  },
  {
   "cell_type": "code",
   "execution_count": null,
   "metadata": {},
   "outputs": [],
   "source": [
    "locks = [ComboLock() for _ in range(100)]\n",
    "random_results = list(map(random_guess, locks))\n",
    "plt.hist(random_results)\n",
    "plt.xlabel('Number of attempts until lock opens')\n",
    "plt.ylabel('Number of locks that open with this number of attempts');\n",
    "print(np.mean(random_results))"
   ]
  },
  {
   "cell_type": "markdown",
   "metadata": {},
   "source": [
    "#### What's the shape of this distribution?"
   ]
  },
  {
   "cell_type": "markdown",
   "metadata": {},
   "source": [
    "### Let's try a more organized approach:"
   ]
  },
  {
   "cell_type": "code",
   "execution_count": null,
   "metadata": {},
   "outputs": [],
   "source": [
    "def ordered_guess(lock):\n",
    "    attempts = 0\n",
    "    for i in range(10**(lock.digits)):\n",
    "        code = str(i).zfill(lock.digits)\n",
    "        lock.clear()\n",
    "        attempts +=1\n",
    "        for d in code:\n",
    "            lock.input_digit(int(d))\n",
    "        if lock.try_to_open():\n",
    "            return attempts "
   ]
  },
  {
   "cell_type": "markdown",
   "metadata": {},
   "source": [
    "### And see how long it takes to open the locks this way"
   ]
  },
  {
   "cell_type": "code",
   "execution_count": null,
   "metadata": {},
   "outputs": [],
   "source": [
    "ordered_results = list(map(ordered_guess, locks))\n",
    "plt.hist(ordered_results)\n",
    "plt.xlabel('Number of attempts until lock opens')\n",
    "plt.ylabel('Number of locks that open with this number of attempts');\n",
    "\n",
    "print(np.mean(ordered_results))"
   ]
  },
  {
   "cell_type": "markdown",
   "metadata": {},
   "source": [
    "#### What's the shape of this distribution?"
   ]
  },
  {
   "cell_type": "code",
   "execution_count": null,
   "metadata": {},
   "outputs": [],
   "source": [
    "def cdf(value, array):\n",
    "    return (array<value).sum()/len(array)\n",
    "\n",
    "def vcdf(dist):\n",
    "    dist = np.array(dist)\n",
    "    return np.vectorize(cdf, excluded = ['array'])(value = dist, array=dist)"
   ]
  },
  {
   "cell_type": "markdown",
   "metadata": {},
   "source": [
    "### Let's compare the distributions of the two different approaches:"
   ]
  },
  {
   "cell_type": "code",
   "execution_count": null,
   "metadata": {},
   "outputs": [],
   "source": [
    "plt.scatter(random_results, vcdf(random_results), marker = '.', label = 'Random')\n",
    "plt.scatter(ordered_results, vcdf(ordered_results), marker = '.', label = 'Ordered')\n",
    "plt.xlabel('Number of attempts until lock opens')\n",
    "plt.ylabel('Cumulative Distribution')\n",
    "plt.legend();\n"
   ]
  },
  {
   "cell_type": "markdown",
   "metadata": {},
   "source": [
    "### Is one approach better than the other?  Why or why not?"
   ]
  },
  {
   "cell_type": "code",
   "execution_count": null,
   "metadata": {},
   "outputs": [],
   "source": []
  }
 ],
 "metadata": {
  "kernelspec": {
   "display_name": "Python 3",
   "language": "python",
   "name": "python3"
  },
  "language_info": {
   "codemirror_mode": {
    "name": "ipython",
    "version": 3
   },
   "file_extension": ".py",
   "mimetype": "text/x-python",
   "name": "python",
   "nbconvert_exporter": "python",
   "pygments_lexer": "ipython3",
   "version": "3.7.6"
  }
 },
 "nbformat": 4,
 "nbformat_minor": 4
}
